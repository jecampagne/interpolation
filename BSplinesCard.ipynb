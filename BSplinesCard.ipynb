{
 "cells": [
  {
   "cell_type": "code",
   "execution_count": null,
   "id": "6070e5c5-fe5c-435a-b608-8e43f46e1842",
   "metadata": {},
   "outputs": [],
   "source": [
    "%pylab inline"
   ]
  },
  {
   "cell_type": "code",
   "execution_count": null,
   "id": "8e38659d-1fdf-4a44-9f44-7cb1570cb664",
   "metadata": {},
   "outputs": [],
   "source": [
    "import numpy as np"
   ]
  },
  {
   "cell_type": "code",
   "execution_count": null,
   "id": "35165f5b-5f1a-4914-9af8-59a8a20b5c47",
   "metadata": {},
   "outputs": [],
   "source": [
    "import matplotlib.gridspec as gridspec\n",
    "params = {'legend.fontsize':16,\n",
    "          'figure.figsize': (8, 8),\n",
    "         'axes.labelsize': 16,\n",
    "         'axes.titlesize': 16,\n",
    "         'xtick.labelsize':16,\n",
    "         'ytick.labelsize': 16}\n",
    "pylab.rcParams.update(params)"
   ]
  },
  {
   "cell_type": "code",
   "execution_count": null,
   "id": "4803b379-7181-4f1a-b266-e350c894bfe4",
   "metadata": {},
   "outputs": [],
   "source": [
    "import matplotlib.ticker as mtick\n",
    "def decibel_formatter(unit='dB'):\n",
    "    def format_value(value, pos=None):\n",
    "        dB = 10*np.log10(value)\n",
    "        return f'{dB:.0f} {unit}'\n",
    "    return format_value"
   ]
  },
  {
   "cell_type": "code",
   "execution_count": null,
   "id": "e8c5c4ca-bccd-4ba9-b42e-f7bbe207b90f",
   "metadata": {},
   "outputs": [],
   "source": [
    "[i for i in range(3,5)]"
   ]
  },
  {
   "cell_type": "code",
   "execution_count": null,
   "id": "53e02d3c-53ae-4389-9028-4eeff35fa8ec",
   "metadata": {},
   "outputs": [],
   "source": [
    "def Mtx(mis,o):\n",
    "    # solve S such (A+Z-2BR)S+B = 0 \n",
    "    # mis : array [m(0),m(1),m(2)] \n",
    "    # o: order\n",
    "    # return such  S(0)=1-2Sum_j S(j), S(j), j=1,...,o \n",
    "    o = int(o)\n",
    "    assert o>=1, \"o>=1 needed\"\n",
    "    A = np.zeros((o,o))\n",
    "    Z = np.zeros((o,o))\n",
    "    B = np.zeros((o,1))\n",
    "    R = np.ones((1,o))\n",
    "    #next A is a symmetric matrix... fill upper triangle included diag\n",
    "    np.fill_diagonal(A, mis[0])\n",
    "    Z[0,0] = mis[2]\n",
    "    B[0,0] = mis[1]    \n",
    "    if o>=2:\n",
    "        A[0,1] = mis[1]\n",
    "        #\n",
    "        B[1,0] = mis[2]\n",
    "#    if o>=3:\n",
    "#        A[0,2] = mis[2]\n",
    "#        A[1,2] = mis[1]\n",
    "    \n",
    "    if o>=3:\n",
    "        for c in range(2,o):\n",
    "            A[c-1,c]=mis[1]\n",
    "            A[c-2,c]=mis[2]\n",
    "        #\n",
    "        B[1,0] = mis[2]\n",
    "    \n",
    "#    else:\n",
    "        #print(\"not yet\")\n",
    "    #print(\"1) A\\n\",A)\n",
    "    A = A + A.T - np.diag(np.diag(A))\n",
    "    #print(\"2) A\\n\",A)\n",
    "    M = A+Z-2*B*R\n",
    "    S = np.linalg.solve(M,-B).flatten()\n",
    "    S = np.insert(S,0,1-2*np.sum(S),axis=0)        \n",
    "    return S\n",
    "                     \n",
    "def Kval(n,m,s):\n",
    "    n = int(np.abs(n))\n",
    "    #order\n",
    "    om = len(m)-1\n",
    "    os = len(s)-1\n",
    "    #print(om,os)\n",
    "    # m(-2) S(n-2) + m(-1) S(n-1)+ m(0) S(n) +  m(1) S(n+1) + m(2)S(n+2)\n",
    "    # m(-j)=m(j), S(-j) = S(j)\n",
    "    #symetric ms\n",
    "    ms = np.hstack((np.flip(m[1:]),m))\n",
    "    ss = np.hstack((np.flip(s[1:]),s))\n",
    "    #print(\"ms: \",ms)\n",
    "    #print(\"ss: \",ss)\n",
    "    # [n-2,n-1,n,n+1,n+2] in [-o,...,-1,0,1,..,o]\n",
    "    if n-om>os:\n",
    "        return 0\n",
    "    else:\n",
    "        idx1 = np.arange(-os,os+1)\n",
    "        idx2 = np.arange(n-om,n+om+1)\n",
    "        #print(idx1,idx2)\n",
    "        xy, x_ind, y_ind = np.intersect1d(idx1, idx2, return_indices=True)\n",
    "        #print(xy,x_ind,y_ind)\n",
    "        #print(ms[y_ind[0]:y_ind[-1]+1],ss[x_ind[0]:x_ind[-1]+1])\n",
    "        return np.dot(ms[y_ind[0]:y_ind[-1]+1],ss[x_ind[0]:x_ind[-1]+1])"
   ]
  },
  {
   "cell_type": "code",
   "execution_count": null,
   "id": "e872665a-57ab-453b-8be4-bac49d84f2b8",
   "metadata": {},
   "outputs": [],
   "source": [
    "mis=np.zeros(3)\n",
    "#m_4\n",
    "mis[0] = 2/3\n",
    "mis[1] = 1/6"
   ]
  },
  {
   "cell_type": "code",
   "execution_count": null,
   "id": "19201e39-7c46-4d5f-9654-a4fb0c367e1b",
   "metadata": {},
   "outputs": [],
   "source": [
    "mis"
   ]
  },
  {
   "cell_type": "code",
   "execution_count": null,
   "id": "3eb41e02-0ca7-4dea-88cc-bf67313e95a3",
   "metadata": {},
   "outputs": [],
   "source": [
    "for o in range(1,8):\n",
    "    print(o,Mtx(mis,o))"
   ]
  },
  {
   "cell_type": "code",
   "execution_count": null,
   "id": "1befb364-0069-43e6-a215-7a9ef89fc41d",
   "metadata": {},
   "outputs": [],
   "source": [
    "mis=np.zeros(3)\n",
    "#m_6\n",
    "mis[0] = 11/20\n",
    "mis[1] = 13/60\n",
    "mis[2] = 1/120"
   ]
  },
  {
   "cell_type": "code",
   "execution_count": null,
   "id": "97a3b1bf-2462-4338-96f1-d8213a263e7e",
   "metadata": {},
   "outputs": [],
   "source": [
    "for o in range(1,8):\n",
    "    print(o,Mtx(mis,o))"
   ]
  },
  {
   "cell_type": "code",
   "execution_count": null,
   "id": "a8e2a718-0eb4-4f62-8ae5-ab76e23cd93c",
   "metadata": {},
   "outputs": [],
   "source": [
    "S= Mtx(mis,7)"
   ]
  },
  {
   "cell_type": "code",
   "execution_count": null,
   "id": "bf9ba139-f70b-43d5-bdad-758d80973fbd",
   "metadata": {},
   "outputs": [],
   "source": [
    "S"
   ]
  },
  {
   "cell_type": "code",
   "execution_count": null,
   "id": "ebd1aed8-b974-411a-ae8b-dbac4034d6bf",
   "metadata": {},
   "outputs": [],
   "source": [
    "mis"
   ]
  },
  {
   "cell_type": "code",
   "execution_count": null,
   "id": "c60ace4e-d92f-4b3d-b9e1-f3a51d87293d",
   "metadata": {},
   "outputs": [],
   "source": [
    "Kval(0,mis,S)"
   ]
  },
  {
   "cell_type": "code",
   "execution_count": null,
   "id": "a0d13d12-f07a-4322-ab05-cf9eeef3a13d",
   "metadata": {},
   "outputs": [],
   "source": [
    "sum = 0\n",
    "for n in range(0,11):\n",
    "    kv = Kval(n,mis,S)\n",
    "    if n==0:\n",
    "        sum += kv\n",
    "    else:\n",
    "         sum += 2*kv\n",
    "    print(n,Kval(n,mis,S))\n",
    "print(\"Tot: \",sum)"
   ]
  },
  {
   "cell_type": "code",
   "execution_count": null,
   "id": "5ecda818-3e7e-4e4c-83d9-9d05d71a41bb",
   "metadata": {},
   "outputs": [],
   "source": []
  },
  {
   "cell_type": "code",
   "execution_count": null,
   "id": "793f8604-bcf9-45ac-85b7-70096ae13f6d",
   "metadata": {},
   "outputs": [],
   "source": [
    "Kval(9,mis,S)"
   ]
  },
  {
   "cell_type": "code",
   "execution_count": null,
   "id": "d65fc534-84f2-44e3-bb32-f1e74e29624e",
   "metadata": {},
   "outputs": [],
   "source": [
    "Kval(10,mis,S)"
   ]
  },
  {
   "cell_type": "code",
   "execution_count": null,
   "id": "0deb313d-e981-4380-b584-3faf950098cb",
   "metadata": {},
   "outputs": [],
   "source": []
  }
 ],
 "metadata": {
  "kernelspec": {
   "display_name": "Python 3 (ipykernel)",
   "language": "python",
   "name": "python3"
  },
  "language_info": {
   "codemirror_mode": {
    "name": "ipython",
    "version": 3
   },
   "file_extension": ".py",
   "mimetype": "text/x-python",
   "name": "python",
   "nbconvert_exporter": "python",
   "pygments_lexer": "ipython3",
   "version": "3.8.5"
  }
 },
 "nbformat": 4,
 "nbformat_minor": 5
}
