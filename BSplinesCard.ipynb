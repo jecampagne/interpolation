{
 "cells": [
  {
   "cell_type": "code",
   "execution_count": 1,
   "id": "6070e5c5-fe5c-435a-b608-8e43f46e1842",
   "metadata": {},
   "outputs": [
    {
     "name": "stdout",
     "output_type": "stream",
     "text": [
      "%pylab is deprecated, use %matplotlib inline and import the required libraries.\n",
      "Populating the interactive namespace from numpy and matplotlib\n"
     ]
    }
   ],
   "source": [
    "%pylab inline"
   ]
  },
  {
   "cell_type": "code",
   "execution_count": 2,
   "id": "8e38659d-1fdf-4a44-9f44-7cb1570cb664",
   "metadata": {},
   "outputs": [],
   "source": [
    "import numpy as np"
   ]
  },
  {
   "cell_type": "code",
   "execution_count": null,
   "id": "35165f5b-5f1a-4914-9af8-59a8a20b5c47",
   "metadata": {},
   "outputs": [],
   "source": [
    "import matplotlib.gridspec as gridspec\n",
    "params = {'legend.fontsize':16,\n",
    "          'figure.figsize': (8, 8),\n",
    "         'axes.labelsize': 16,\n",
    "         'axes.titlesize': 16,\n",
    "         'xtick.labelsize':16,\n",
    "         'ytick.labelsize': 16}\n",
    "pylab.rcParams.update(params)"
   ]
  },
  {
   "cell_type": "code",
   "execution_count": null,
   "id": "4803b379-7181-4f1a-b266-e350c894bfe4",
   "metadata": {},
   "outputs": [],
   "source": [
    "import matplotlib.ticker as mtick\n",
    "def decibel_formatter(unit='dB'):\n",
    "    def format_value(value, pos=None):\n",
    "        dB = 10*np.log10(value)\n",
    "        return f'{dB:.0f} {unit}'\n",
    "    return format_value"
   ]
  },
  {
   "cell_type": "code",
   "execution_count": null,
   "id": "e8c5c4ca-bccd-4ba9-b42e-f7bbe207b90f",
   "metadata": {},
   "outputs": [],
   "source": [
    "[i for i in range(3,5)]"
   ]
  },
  {
   "cell_type": "code",
   "execution_count": 6,
   "id": "53e02d3c-53ae-4389-9028-4eeff35fa8ec",
   "metadata": {},
   "outputs": [],
   "source": [
    "def Mtx(mis,o):\n",
    "    # solve S such (A+Z-2BR)S+B = 0 \n",
    "    # mis : array [m(0),m(1),m(2)] \n",
    "    # o: order\n",
    "    # return such  S(0)=1-2Sum_j S(j), S(j), j=1,...,o \n",
    "    o = int(o)\n",
    "    assert o>=1, \"o>=1 needed\"\n",
    "    A = np.zeros((o,o))\n",
    "    Z = np.zeros((o,o))\n",
    "    B = np.zeros((o,1))\n",
    "    R = np.ones((1,o))\n",
    "    #next A is a symmetric matrix... fill upper triangle included diag\n",
    "    Z[0,0] = mis[2]\n",
    "    B[0,0] = mis[1]    \n",
    "    if o>=2:\n",
    "        A[0,1] = mis[1]\n",
    "        #\n",
    "        B[1,0] = mis[2]\n",
    "#    if o>=3:\n",
    "#        A[0,2] = mis[2]\n",
    "#        A[1,2] = mis[1]\n",
    "    \n",
    "    if o>=3:\n",
    "        for c in range(2,o):\n",
    "            A[c-1,c]=mis[1]\n",
    "            A[c-2,c]=mis[2]\n",
    "        #\n",
    "        B[1,0] = mis[2]\n",
    "    \n",
    "#    else:\n",
    "        #print(\"not yet\")\n",
    "    #print(\"1) A\\n\",A)\n",
    "    A = A + A.T #- np.diag(np.diag(A))\n",
    "    np.fill_diagonal(A, mis[0])\n",
    "    #print(\"2) A\\n\",A)\n",
    "    M = A+Z-2*B*R\n",
    "    S = np.linalg.solve(M,-B).flatten()\n",
    "    S = np.insert(S,0,1-2*np.sum(S),axis=0)        \n",
    "    return S\n",
    "                     \n",
    "def Kval(n,m,s):\n",
    "    n = int(np.abs(n))\n",
    "    #order\n",
    "    om = len(m)-1\n",
    "    os = len(s)-1\n",
    "    #print(om,os)\n",
    "    # m(-2) S(n-2) + m(-1) S(n-1)+ m(0) S(n) +  m(1) S(n+1) + m(2)S(n+2)\n",
    "    # m(-j)=m(j), S(-j) = S(j)\n",
    "    #symetric ms\n",
    "    ms = np.hstack((np.flip(m[1:]),m))\n",
    "    ss = np.hstack((np.flip(s[1:]),s))\n",
    "    #print(\"ms: \",ms)\n",
    "    #print(\"ss: \",ss)\n",
    "    # [n-2,n-1,n,n+1,n+2] in [-o,...,-1,0,1,..,o]\n",
    "    if n-om>os:\n",
    "        return 0\n",
    "    else:\n",
    "        idx1 = np.arange(-os,os+1)\n",
    "        idx2 = np.arange(n-om,n+om+1)\n",
    "        #print(idx1,idx2)\n",
    "        xy, x_ind, y_ind = np.intersect1d(idx1, idx2, return_indices=True)\n",
    "        #print(xy,x_ind,y_ind)\n",
    "        #print(ms[y_ind[0]:y_ind[-1]+1],ss[x_ind[0]:x_ind[-1]+1])\n",
    "        return np.dot(ms[y_ind[0]:y_ind[-1]+1],ss[x_ind[0]:x_ind[-1]+1])"
   ]
  },
  {
   "cell_type": "code",
   "execution_count": 7,
   "id": "e872665a-57ab-453b-8be4-bac49d84f2b8",
   "metadata": {},
   "outputs": [],
   "source": [
    "mis=np.zeros(3)\n",
    "#m_4\n",
    "mis[0] = 2/3\n",
    "mis[1] = 1/6"
   ]
  },
  {
   "cell_type": "code",
   "execution_count": 8,
   "id": "19201e39-7c46-4d5f-9654-a4fb0c367e1b",
   "metadata": {},
   "outputs": [
    {
     "data": {
      "text/plain": [
       "array([0.66666667, 0.16666667, 0.        ])"
      ]
     },
     "execution_count": 8,
     "metadata": {},
     "output_type": "execute_result"
    }
   ],
   "source": [
    "mis"
   ]
  },
  {
   "cell_type": "code",
   "execution_count": 9,
   "id": "3eb41e02-0ca7-4dea-88cc-bf67313e95a3",
   "metadata": {},
   "outputs": [
    {
     "name": "stdout",
     "output_type": "stream",
     "text": [
      "1 [ 2.  -0.5]\n",
      "2 [ 1.66666667 -0.44444444  0.11111111]\n",
      "3 [ 1.75    -0.46875  0.125   -0.03125]\n",
      "4 [ 1.72727273 -0.46280992  0.12396694 -0.03305785  0.00826446]\n",
      "5 [ 1.73333333 -0.46444444  0.12444444 -0.03333333  0.00888889 -0.00222222]\n",
      "6 [ 1.73170732e+00 -4.64009518e-01  1.24330756e-01 -3.33135039e-02\n",
      "  8.92325996e-03 -2.37953599e-03  5.94883998e-04]\n",
      "7 [ 1.73214286e+00 -4.64126276e-01  1.24362245e-01 -3.33227041e-02\n",
      "  8.92857143e-03 -2.39158163e-03  6.37755102e-04 -1.59438776e-04]\n"
     ]
    }
   ],
   "source": [
    "for o in range(1,8):\n",
    "    print(o,Mtx(mis,o))"
   ]
  },
  {
   "cell_type": "code",
   "execution_count": 10,
   "id": "1befb364-0069-43e6-a215-7a9ef89fc41d",
   "metadata": {},
   "outputs": [],
   "source": [
    "mis=np.zeros(3)\n",
    "#m_6\n",
    "mis[0] = 11/20\n",
    "mis[1] = 13/60\n",
    "mis[2] = 1/120"
   ]
  },
  {
   "cell_type": "code",
   "execution_count": 12,
   "id": "97a3b1bf-2462-4338-96f1-d8213a263e7e",
   "metadata": {},
   "outputs": [
    {
     "name": "stdout",
     "output_type": "stream",
     "text": [
      "1 [ 4.46666667 -1.73333333]\n",
      "2 [ 2.36489899 -1.06691919  0.3844697 ]\n",
      "3 [ 3.07924242 -1.42409091  0.59877273 -0.21430303]\n",
      "4 [ 2.74648759 -1.27593     0.55032616 -0.22984778  0.08220782]\n",
      "5 [ 2.88450592 -1.34116344  0.58114573 -0.24899226  0.10392427 -0.03716725]\n",
      "6 [ 2.82415686 -1.31330614  0.56956137 -0.24516221  0.10497024 -0.04380951\n",
      "  0.01566783]\n",
      "7 [ 2.84996677 -1.32534626  0.57487401 -0.24766081  0.10653255 -0.04561063\n",
      "  0.01903555 -0.00680778]\n"
     ]
    }
   ],
   "source": [
    "for o in range(1,8):\n",
    "    print(o,Mtx(mis,o))"
   ]
  },
  {
   "cell_type": "code",
   "execution_count": 13,
   "id": "a8e2a718-0eb4-4f62-8ae5-ab76e23cd93c",
   "metadata": {},
   "outputs": [],
   "source": [
    "S= Mtx(mis,7)"
   ]
  },
  {
   "cell_type": "code",
   "execution_count": 14,
   "id": "bf9ba139-f70b-43d5-bdad-758d80973fbd",
   "metadata": {},
   "outputs": [
    {
     "data": {
      "text/plain": [
       "array([ 2.84996677, -1.32534626,  0.57487401, -0.24766081,  0.10653255,\n",
       "       -0.04561063,  0.01903555, -0.00680778])"
      ]
     },
     "execution_count": 14,
     "metadata": {},
     "output_type": "execute_result"
    }
   ],
   "source": [
    "S"
   ]
  },
  {
   "cell_type": "code",
   "execution_count": 15,
   "id": "ebd1aed8-b974-411a-ae8b-dbac4034d6bf",
   "metadata": {},
   "outputs": [
    {
     "data": {
      "text/plain": [
       "array([0.55      , 0.21666667, 0.00833333])"
      ]
     },
     "execution_count": 15,
     "metadata": {},
     "output_type": "execute_result"
    }
   ],
   "source": [
    "mis"
   ]
  },
  {
   "cell_type": "code",
   "execution_count": 16,
   "id": "c60ace4e-d92f-4b3d-b9e1-f3a51d87293d",
   "metadata": {},
   "outputs": [
    {
     "data": {
      "text/plain": [
       "1.0027462431363514"
      ]
     },
     "execution_count": 16,
     "metadata": {},
     "output_type": "execute_result"
    }
   ],
   "source": [
    "Kval(0,mis,S)"
   ]
  },
  {
   "cell_type": "code",
   "execution_count": 17,
   "id": "a0d13d12-f07a-4322-ab05-cf9eeef3a13d",
   "metadata": {},
   "outputs": [
    {
     "name": "stdout",
     "output_type": "stream",
     "text": [
      "0 1.0027462431363514\n",
      "1 -1.450231531148099e-16\n",
      "2 6.296536989190573e-17\n",
      "3 -2.5389863088267755e-18\n",
      "4 5.326652250039285e-18\n",
      "5 1.145072350932389e-18\n",
      "6 -8.599253376412011e-19\n",
      "7 -6.059029014080881e-19\n",
      "8 -0.0013163900439674171\n",
      "9 -5.673152420850699e-05\n",
      "10 0\n",
      "Tot:  0.9999999999999996\n"
     ]
    }
   ],
   "source": [
    "sum = 0\n",
    "for n in range(0,11):\n",
    "    kv = Kval(n,mis,S)\n",
    "    if n==0:\n",
    "        sum += kv\n",
    "    else:\n",
    "         sum += 2*kv\n",
    "    print(n,Kval(n,mis,S))\n",
    "print(\"Tot: \",sum)"
   ]
  },
  {
   "cell_type": "code",
   "execution_count": null,
   "id": "0deb313d-e981-4380-b584-3faf950098cb",
   "metadata": {},
   "outputs": [],
   "source": []
  },
  {
   "cell_type": "code",
   "execution_count": null,
   "id": "46f18625-cf50-4573-bc0a-3284628727f3",
   "metadata": {},
   "outputs": [],
   "source": [
    "def Bspline3(x):\n",
    "  # nb. degre poly is 3\n",
    "  x = np.abs(x)\n",
    "  def p1(x):\n",
    "    return 2/3+1/2* x * x * (x-2)\n",
    "  def p2(x):\n",
    "    return -1/6 *(x-2)*(x-2)*(x-2)\n",
    "  return np.piecewise(x, [x<1., (x>=1)&(x<2.), x>=2],[lambda x:p1(x),lambda x:p2(x),lambda x: 0.])\n",
    "\n",
    "def hatBspline3(u):\n",
    "  s = np.sinc(u)\n",
    "  s2 = s*s\n",
    "  return s2 * s2"
   ]
  },
  {
   "cell_type": "code",
   "execution_count": null,
   "id": "94473d11-b1a0-4720-bfe1-0c56f94e574d",
   "metadata": {},
   "outputs": [],
   "source": [
    "def s3(n):\n",
    "    n = n.astype(int)\n",
    "    r3 = np.sqrt(3)\n",
    "    return (-2*(n%2)+1)*r3/((2+r3)**(np.abs(n)))\n",
    "\n",
    "def BsplineCard3(xin):\n",
    "  xin = np.atleast_1d(xin)\n",
    "  xshape=xin.shape\n",
    "  x = xin.flatten()\n",
    "  nmin = np.ceil(x-2).astype(int)\n",
    "  nmax = np.floor(x+2).astype(int)\n",
    "  res = []\n",
    "  for i,x0 in enumerate(x):\n",
    "    res.append(np.sum(np.array([s3(n)*Bspline3(x0-n) for n in np.arange(nmin[i],nmax[i]+1,1)])))\n",
    "  return np.array(res).reshape(xshape)"
   ]
  }
 ],
 "metadata": {
  "kernelspec": {
   "display_name": "Python 3 (ipykernel)",
   "language": "python",
   "name": "python3"
  },
  "language_info": {
   "codemirror_mode": {
    "name": "ipython",
    "version": 3
   },
   "file_extension": ".py",
   "mimetype": "text/x-python",
   "name": "python",
   "nbconvert_exporter": "python",
   "pygments_lexer": "ipython3",
   "version": "3.8.5"
  }
 },
 "nbformat": 4,
 "nbformat_minor": 5
}
